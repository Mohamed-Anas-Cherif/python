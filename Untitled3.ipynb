{
  "nbformat": 4,
  "nbformat_minor": 0,
  "metadata": {
    "colab": {
      "name": "Untitled3.ipynb",
      "provenance": [],
      "collapsed_sections": []
    },
    "kernelspec": {
      "name": "python3",
      "display_name": "Python 3"
    },
    "language_info": {
      "name": "python"
    }
  },
  "cells": [
    {
      "cell_type": "code",
      "metadata": {
        "colab": {
          "base_uri": "https://localhost:8080/"
        },
        "id": "bH5fJAjiH1xG",
        "outputId": "a54ab29c-d36d-44b0-ab49-c6a63824ad9a"
      },
      "source": [
        "list1 = []\n",
        "for i in range (2000,3200):\n",
        "  if i % 7 == 0 and i % 5 != 0 : \n",
        "    list1.append(i)\n",
        "  else:\n",
        "    list1 = list1\n",
        "print(list1)\n",
        "    \n"
      ],
      "execution_count": 4,
      "outputs": [
        {
          "output_type": "stream",
          "text": [
            "[2002, 2009, 2016, 2023, 2037, 2044, 2051, 2058, 2072, 2079, 2086, 2093, 2107, 2114, 2121, 2128, 2142, 2149, 2156, 2163, 2177, 2184, 2191, 2198, 2212, 2219, 2226, 2233, 2247, 2254, 2261, 2268, 2282, 2289, 2296, 2303, 2317, 2324, 2331, 2338, 2352, 2359, 2366, 2373, 2387, 2394, 2401, 2408, 2422, 2429, 2436, 2443, 2457, 2464, 2471, 2478, 2492, 2499, 2506, 2513, 2527, 2534, 2541, 2548, 2562, 2569, 2576, 2583, 2597, 2604, 2611, 2618, 2632, 2639, 2646, 2653, 2667, 2674, 2681, 2688, 2702, 2709, 2716, 2723, 2737, 2744, 2751, 2758, 2772, 2779, 2786, 2793, 2807, 2814, 2821, 2828, 2842, 2849, 2856, 2863, 2877, 2884, 2891, 2898, 2912, 2919, 2926, 2933, 2947, 2954, 2961, 2968, 2982, 2989, 2996, 3003, 3017, 3024, 3031, 3038, 3052, 3059, 3066, 3073, 3087, 3094, 3101, 3108, 3122, 3129, 3136, 3143, 3157, 3164, 3171, 3178, 3192, 3199]\n"
          ],
          "name": "stdout"
        }
      ]
    },
    {
      "cell_type": "code",
      "metadata": {
        "colab": {
          "base_uri": "https://localhost:8080/"
        },
        "id": "gBRi_-BDLs0W",
        "outputId": "6e1bfdc1-9ef7-43da-8042-4522c385d84d"
      },
      "source": [
        "n = int(input(\"give n :\"))\n",
        "def factorial(n):\n",
        "  if n == 0:\n",
        "    return 1\n",
        "  elif n == 1:\n",
        "    return 1\n",
        "  elif n < 0 :\n",
        "    return -1\n",
        "  else :\n",
        "    return n*factorial(n-1)\n",
        "print(factorial(n))"
      ],
      "execution_count": 13,
      "outputs": [
        {
          "output_type": "stream",
          "text": [
            "donner n :5\n",
            "120\n"
          ],
          "name": "stdout"
        }
      ]
    },
    {
      "cell_type": "code",
      "metadata": {
        "colab": {
          "base_uri": "https://localhost:8080/"
        },
        "id": "Dchk9UQ0NQwq",
        "outputId": "199d8890-1cdb-49ad-a1f7-268f46d0df91"
      },
      "source": [
        "x = int(input(\"give x: \"))\n",
        "dict1 = {}\n",
        "for i in range (1,x + 1):\n",
        "  dict1[i] = i*i\n",
        "print(dict1)\n"
      ],
      "execution_count": 23,
      "outputs": [
        {
          "output_type": "stream",
          "text": [
            "give x: 8\n",
            "{1: 1, 2: 4, 3: 9, 4: 16, 5: 25, 6: 36, 7: 49, 8: 64}\n"
          ],
          "name": "stdout"
        }
      ]
    },
    {
      "cell_type": "code",
      "metadata": {
        "colab": {
          "base_uri": "https://localhost:8080/"
        },
        "id": "uxpRIz4qPhne",
        "outputId": "5057d8e9-274b-4f0e-ac3e-39fd8db81e47"
      },
      "source": [
        "ch = input(\"give a string : \")\n",
        "y = int(input(\"give a number : \"))\n",
        "ch1 = ''\n",
        "ch2 = ''\n",
        "ch3 = ''\n",
        "if y > 0 and y <= len(ch)-1 :\n",
        "  for i in range(0,y):\n",
        "    ch1 = ch1 + ch[i]\n",
        "  for k in range (y+1, len(ch)):\n",
        "    ch2 = ch2 + ch[k]\n",
        "ch3 = ch1 + ch2\n",
        "print(ch3)\n",
        "\n"
      ],
      "execution_count": 29,
      "outputs": [
        {
          "output_type": "stream",
          "text": [
            "give a string : kitten\n",
            "give a number : 1\n",
            "ktten\n"
          ],
          "name": "stdout"
        }
      ]
    },
    {
      "cell_type": "code",
      "metadata": {
        "colab": {
          "base_uri": "https://localhost:8080/"
        },
        "id": "IlHmNQdlSUAI",
        "outputId": "2ccf9f58-a02c-4ac2-dc55-8c04814242d9"
      },
      "source": [
        "import numpy as np\n",
        "a = np.array([[0,1],[2,3],[4,5]])\n",
        "b = []\n",
        "for w in range (0,len(a)):\n",
        "  b.append(list(a[w]))\n",
        "print(b)\n"
      ],
      "execution_count": 35,
      "outputs": [
        {
          "output_type": "stream",
          "text": [
            "[[0, 1], [2, 3], [4, 5]]\n"
          ],
          "name": "stdout"
        }
      ]
    },
    {
      "cell_type": "code",
      "metadata": {
        "colab": {
          "base_uri": "https://localhost:8080/"
        },
        "id": "e5_Ln2ZmU7n6",
        "outputId": "a6355af1-6703-44b4-b174-4369fb6bc499"
      },
      "source": [
        "import numpy as np\n",
        "a1 = np.array([0,1,2])\n",
        "a2 = np.array([2,1,0])\n",
        "print(np.cov(a1,a2))"
      ],
      "execution_count": 38,
      "outputs": [
        {
          "output_type": "stream",
          "text": [
            "[[ 1. -1.]\n",
            " [-1.  1.]]\n"
          ],
          "name": "stdout"
        }
      ]
    },
    {
      "cell_type": "code",
      "metadata": {
        "colab": {
          "base_uri": "https://localhost:8080/"
        },
        "id": "g6DsuhUNYmXP",
        "outputId": "57f3e116-3573-4cde-aab8-cc6830009b6d"
      },
      "source": [
        "\n",
        "import math\n",
        "u = input(\"give comma-separated input sequence : \")\n",
        "C = 50\n",
        "H = 30\n",
        "d = u.split(\",\")\n",
        "d1 = \"\"\n",
        "for k in range (0,len(d)) :\n",
        "  Qi = math.sqrt((2 * C )* int(d[k])/H)\n",
        "  Qi1 = round(Qi)\n",
        "  d1 = d1 + ',' + str(Qi1)\n",
        "print(d1)"
      ],
      "execution_count": 94,
      "outputs": [
        {
          "output_type": "stream",
          "text": [
            "give comma-separated input sequence : 100,150,180\n",
            ",18,22,24\n"
          ],
          "name": "stdout"
        }
      ]
    },
    {
      "cell_type": "code",
      "metadata": {
        "id": "woED7jnfdepl"
      },
      "source": [
        ""
      ],
      "execution_count": 53,
      "outputs": []
    }
  ]
}